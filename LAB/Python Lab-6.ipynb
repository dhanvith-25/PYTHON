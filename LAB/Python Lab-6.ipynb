{
 "cells": [
  {
   "cell_type": "markdown",
   "id": "c91406e3",
   "metadata": {},
   "source": [
    "# LAB-06"
   ]
  },
  {
   "cell_type": "markdown",
   "id": "02cc77c3",
   "metadata": {},
   "source": [
    "## Develop a python program to rotate right about a given position in that list and list them"
   ]
  },
  {
   "cell_type": "code",
   "execution_count": 7,
   "id": "96ba67e2",
   "metadata": {},
   "outputs": [
    {
     "name": "stdout",
     "output_type": "stream",
     "text": [
      "Enter integer number : 002154\n",
      "the reverse number is 4512\n"
     ]
    }
   ],
   "source": [
    "number=int(input(\"Enter integer number : \"))\n",
    "revs_number=0\n",
    "while(number>0):\n",
    "    reminder=number%10\n",
    "    revs_number=(revs_number*10)+reminder\n",
    "    number=number//10\n",
    "print(\"the reverse number is {}\".format(revs_number))"
   ]
  },
  {
   "cell_type": "code",
   "execution_count": 2,
   "id": "52b1af27",
   "metadata": {},
   "outputs": [
    {
     "data": {
      "text/plain": [
       "6"
      ]
     },
     "execution_count": 2,
     "metadata": {},
     "output_type": "execute_result"
    }
   ],
   "source": [
    "4056%10"
   ]
  },
  {
   "cell_type": "code",
   "execution_count": 3,
   "id": "c5af6a99",
   "metadata": {},
   "outputs": [
    {
     "data": {
      "text/plain": [
       "405"
      ]
     },
     "execution_count": 3,
     "metadata": {},
     "output_type": "execute_result"
    }
   ],
   "source": [
    "4056//10"
   ]
  },
  {
   "cell_type": "code",
   "execution_count": 4,
   "id": "7c518e0a",
   "metadata": {},
   "outputs": [
    {
     "data": {
      "text/plain": [
       "40"
      ]
     },
     "execution_count": 4,
     "metadata": {},
     "output_type": "execute_result"
    }
   ],
   "source": [
    "405//10"
   ]
  },
  {
   "cell_type": "code",
   "execution_count": 5,
   "id": "5cb2548c",
   "metadata": {},
   "outputs": [
    {
     "data": {
      "text/plain": [
       "4"
      ]
     },
     "execution_count": 5,
     "metadata": {},
     "output_type": "execute_result"
    }
   ],
   "source": [
    "40//10"
   ]
  },
  {
   "cell_type": "code",
   "execution_count": 6,
   "id": "6001f131",
   "metadata": {},
   "outputs": [
    {
     "data": {
      "text/plain": [
       "0"
      ]
     },
     "execution_count": 6,
     "metadata": {},
     "output_type": "execute_result"
    }
   ],
   "source": [
    "4//10"
   ]
  },
  {
   "cell_type": "code",
   "execution_count": null,
   "id": "860c5835",
   "metadata": {},
   "outputs": [],
   "source": []
  }
 ],
 "metadata": {
  "kernelspec": {
   "display_name": "Python 3 (ipykernel)",
   "language": "python",
   "name": "python3"
  },
  "language_info": {
   "codemirror_mode": {
    "name": "ipython",
    "version": 3
   },
   "file_extension": ".py",
   "mimetype": "text/x-python",
   "name": "python",
   "nbconvert_exporter": "python",
   "pygments_lexer": "ipython3",
   "version": "3.10.9"
  }
 },
 "nbformat": 4,
 "nbformat_minor": 5
}
