{
 "cells": [
  {
   "cell_type": "markdown",
   "id": "e4dcf547",
   "metadata": {},
   "source": [
    "# LAB-8"
   ]
  },
  {
   "cell_type": "markdown",
   "id": "e5abcf50",
   "metadata": {},
   "source": [
    "## 8) Develop a  python program to capitalize given text"
   ]
  },
  {
   "cell_type": "code",
   "execution_count": 5,
   "id": "6677eeae",
   "metadata": {},
   "outputs": [
    {
     "name": "stdout",
     "output_type": "stream",
     "text": [
      "['Hello', 'Good', 'How', 'Simple']\n"
     ]
    }
   ],
   "source": [
    "def capitalize_strings(string_list):\n",
    "    return[s.capitalize() for s in string_list]\n",
    "\n",
    "input_string=['hello','good','how','simple']\n",
    "capitalize_strings=capitalize_strings(input_string)\n",
    "print(capitalize_strings)"
   ]
  },
  {
   "cell_type": "code",
   "execution_count": null,
   "id": "a4b12ea6",
   "metadata": {},
   "outputs": [],
   "source": []
  }
 ],
 "metadata": {
  "kernelspec": {
   "display_name": "Python 3 (ipykernel)",
   "language": "python",
   "name": "python3"
  },
  "language_info": {
   "codemirror_mode": {
    "name": "ipython",
    "version": 3
   },
   "file_extension": ".py",
   "mimetype": "text/x-python",
   "name": "python",
   "nbconvert_exporter": "python",
   "pygments_lexer": "ipython3",
   "version": "3.10.9"
  }
 },
 "nbformat": 4,
 "nbformat_minor": 5
}
