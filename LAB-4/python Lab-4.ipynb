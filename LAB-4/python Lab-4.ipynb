{
 "cells": [
  {
   "cell_type": "markdown",
   "id": "b71f755c",
   "metadata": {},
   "source": [
    "# LAB-4"
   ]
  },
  {
   "cell_type": "markdown",
   "id": "b47c879b",
   "metadata": {},
   "source": [
    "## 4) Develop a python script to display a multipication table for given integer"
   ]
  },
  {
   "cell_type": "code",
   "execution_count": 14,
   "id": "9461c33f",
   "metadata": {},
   "outputs": [
    {
     "name": "stdout",
     "output_type": "stream",
     "text": [
      "enter a integer for mltiplication table :4\n",
      "multiplication table for {n} :\n",
      "4*1=4\n",
      "4*2=8\n",
      "4*3=12\n",
      "4*4=16\n",
      "4*5=20\n",
      "4*6=24\n",
      "4*7=28\n",
      "4*8=32\n",
      "4*9=36\n",
      "4*10=40\n",
      "8\n"
     ]
    }
   ],
   "source": [
    "n=int(input(\"enter a integer for mltiplication table :\"))\n",
    "print(\"multiplication table for {n} :\")\n",
    "\n",
    "for i in range (1,11):\n",
    "    result=n*i\n",
    "    print(f\"{n}*{i}={result}\")\n",
    "n//=10\n",
    "\n",
    "print(extra)"
   ]
  },
  {
   "cell_type": "code",
   "execution_count": 19,
   "id": "d9c84fcc",
   "metadata": {},
   "outputs": [
    {
     "name": "stdout",
     "output_type": "stream",
     "text": [
      "1234\n"
     ]
    }
   ],
   "source": [
    "n=12345\n",
    "n//=10\n",
    "print(n)"
   ]
  },
  {
   "cell_type": "code",
   "execution_count": null,
   "id": "ca499bbe",
   "metadata": {},
   "outputs": [],
   "source": []
  }
 ],
 "metadata": {
  "kernelspec": {
   "display_name": "Python 3 (ipykernel)",
   "language": "python",
   "name": "python3"
  },
  "language_info": {
   "codemirror_mode": {
    "name": "ipython",
    "version": 3
   },
   "file_extension": ".py",
   "mimetype": "text/x-python",
   "name": "python",
   "nbconvert_exporter": "python",
   "pygments_lexer": "ipython3",
   "version": "3.10.9"
  }
 },
 "nbformat": 4,
 "nbformat_minor": 5
}
