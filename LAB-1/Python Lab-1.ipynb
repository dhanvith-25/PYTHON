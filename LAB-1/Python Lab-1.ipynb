{
 "cells": [
  {
   "cell_type": "markdown",
   "id": "a656ecbc",
   "metadata": {},
   "source": [
    "# LAB-1"
   ]
  },
  {
   "cell_type": "markdown",
   "id": "744d5e3f",
   "metadata": {},
   "source": [
    "## 1) Develop a python program to read n digit integer number,and seperate te integer and display each digtit [input 5678,Outpuut 5678]"
   ]
  },
  {
   "cell_type": "code",
   "execution_count": 1,
   "id": "ab44f666",
   "metadata": {},
   "outputs": [
    {
     "name": "stdout",
     "output_type": "stream",
     "text": [
      "enterr the number of digits: 3\n",
      "enter a 3-digit integer: 123\n",
      "1\n",
      "2\n",
      "3\n"
     ]
    }
   ],
   "source": [
    "n=int(input(\"enterr the number of digits: \"))\n",
    "if n>0:\n",
    "    number=int(input(f\"enter a {n}-digit integer: \"))\n",
    "    if number>=10**(n-1) and number<10**n:\n",
    "        for i in range (n):\n",
    "            digit=number//(10**(n-1))\n",
    "            print(digit)\n",
    "            number%=10**(n-1)\n",
    "            n-=1\n",
    "    else:\n",
    "        print(f\"please enter a {n}-digit integer:\")\n",
    "else:\n",
    "    print(\"please enter a valid number of digit (greater than 0).\")"
   ]
  },
  {
   "cell_type": "code",
   "execution_count": null,
   "id": "919c3a80",
   "metadata": {},
   "outputs": [],
   "source": []
  }
 ],
 "metadata": {
  "kernelspec": {
   "display_name": "Python 3 (ipykernel)",
   "language": "python",
   "name": "python3"
  },
  "language_info": {
   "codemirror_mode": {
    "name": "ipython",
    "version": 3
   },
   "file_extension": ".py",
   "mimetype": "text/x-python",
   "name": "python",
   "nbconvert_exporter": "python",
   "pygments_lexer": "ipython3",
   "version": "3.10.9"
  }
 },
 "nbformat": 4,
 "nbformat_minor": 5
}
