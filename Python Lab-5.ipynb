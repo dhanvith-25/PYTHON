{
 "cells": [
  {
   "cell_type": "markdown",
   "id": "846e82e5",
   "metadata": {},
   "source": [
    "# LAB - 5"
   ]
  },
  {
   "cell_type": "markdown",
   "id": "54324fa2",
   "metadata": {},
   "source": [
    "## Develop python scripts to calculate the mean, medain,mode,variance and Standard deviation of n integer number"
   ]
  },
  {
   "cell_type": "code",
   "execution_count": 13,
   "id": "a3b9ed5b",
   "metadata": {},
   "outputs": [
    {
     "name": "stdout",
     "output_type": "stream",
     "text": [
      "Enter5 the number of elements6\n",
      "Enter number 1:4\n",
      "Enter number 2:8\n",
      "Enter number 3:6\n",
      "Enter number 4:5\n",
      "Enter number 5:3\n",
      "Enter number 6:9\n",
      "mean=5.833333333333333\n",
      "median=5.5\n",
      "mode=Nomode\n",
      "sample variance=5.366666666666667\n",
      "population variance=4.472222222222222\n",
      "sample standard deviation=2.316606713852541\n",
      "population standard deviation=2.1147629234082532\n"
     ]
    }
   ],
   "source": [
    "n=int(input(\"Enter the number of elements\"))\n",
    "num=[int(input(f\"Enter number {i+1}:\")) for i in range(n)]\n",
    "mean=sum(num)/n\n",
    "num.sort()\n",
    "if n%2==0:\n",
    "    median=(num[n//2-1]+num[n//2])/2\n",
    "else:\n",
    "    median=num[n//2]\n",
    "frequency={nums:num.count(nums) for nums in num}\n",
    "max_count=max(frequency.values())\n",
    "mode=[k for k,v in frequency.items() if v==max_count]\n",
    "if len(mode)==n:\n",
    "    mode=\"Nomode\"\n",
    "mean_dif_squ_sum=sum((x-mean)**2 for x in num)\n",
    "var_sam=mean_dif_squ_sum/(n-1) if n>1 else 0\n",
    "var_pop=mean_dif_squ_sum/n\n",
    "std_div_sam=var_sam**0.5\n",
    "std_div_pop=var_pop**0.5\n",
    "print(f\"mean={mean}\")\n",
    "print(f\"median={median}\")\n",
    "print(f\"mode={mode}\")\n",
    "print(f\"sample variance={var_sam}\")\n",
    "print(f\"population variance={var_pop}\")\n",
    "print(f\"sample standard deviation={std_div_sam}\")\n",
    "print(f\"population standard deviation={std_div_pop}\")"
   ]
  },
  {
   "cell_type": "code",
   "execution_count": null,
   "id": "5e444519",
   "metadata": {},
   "outputs": [],
   "source": []
  }
 ],
 "metadata": {
  "kernelspec": {
   "display_name": "Python 3 (ipykernel)",
   "language": "python",
   "name": "python3"
  },
  "language_info": {
   "codemirror_mode": {
    "name": "ipython",
    "version": 3
   },
   "file_extension": ".py",
   "mimetype": "text/x-python",
   "name": "python",
   "nbconvert_exporter": "python",
   "pygments_lexer": "ipython3",
   "version": "3.10.9"
  }
 },
 "nbformat": 4,
 "nbformat_minor": 5
}
