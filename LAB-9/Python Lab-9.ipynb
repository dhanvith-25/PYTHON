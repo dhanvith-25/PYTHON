{
 "cells": [
  {
   "cell_type": "markdown",
   "id": "aed6e390",
   "metadata": {},
   "source": [
    "# LAB-9"
   ]
  },
  {
   "cell_type": "markdown",
   "id": "09894d74",
   "metadata": {},
   "source": [
    "## 9) Using the dictionary, Develop a  python program to determine and print the number words in the sentance"
   ]
  },
  {
   "cell_type": "code",
   "execution_count": 2,
   "id": "8fffdc1f",
   "metadata": {},
   "outputs": [
    {
     "name": "stdout",
     "output_type": "stream",
     "text": [
      "Enter a sentence : is id is\n",
      " Duplicate word and the counts :\n",
      "is:2\n"
     ]
    }
   ],
   "source": [
    "def count_duplicate_word(sentance):\n",
    "    word=sentance.split()\n",
    "    word_count={}\n",
    "    for word in word:\n",
    "        word=word.lower()\n",
    "        if word in word_count:\n",
    "            word_count[word]+=1\n",
    "        else:\n",
    "            word_count[word]=1\n",
    "    duplicate={word : count for word, count in word_count.items() if count>1}\n",
    "    if duplicate:\n",
    "        print(\" duplicate word and the counts :\")\n",
    "        for word, count in duplicate.items():\n",
    "            print(f\"{word}:{count}\")\n",
    "    else:\n",
    "         print(\"no duplicate word found\")\n",
    "sentance=input(\"enter a sentence : \")\n",
    "count_duplicate_word(sentance)def count_duplicate_word(sentance):\n",
    "    word=sentance.split()\n",
    "    word_count={}\n",
    "    for word in word:\n",
    "        word=word.lower()\n",
    "        if word in word_count:\n",
    "            word_count[word]+=1\n",
    "        else:\n",
    "            word_count[word]=1\n",
    "    duplicate={word : count for word, count in word_count.items() if count>1}\n",
    "    if duplicate:\n",
    "        print(\" Duplicate word and the counts :\")\n",
    "        for word, count in duplicate.items():\n",
    "            print(f\"{word}:{count}\")\n",
    "    else:\n",
    "         print(\"No Duplicate Word Found\")\n",
    "sentance=input(\"Enter a sentence : \")\n",
    "count_duplicate_word(sentance)"
   ]
  },
  {
   "cell_type": "code",
   "execution_count": null,
   "id": "3c8427a3",
   "metadata": {},
   "outputs": [],
   "source": []
  }
 ],
 "metadata": {
  "kernelspec": {
   "display_name": "Python 3 (ipykernel)",
   "language": "python",
   "name": "python3"
  },
  "language_info": {
   "codemirror_mode": {
    "name": "ipython",
    "version": 3
   },
   "file_extension": ".py",
   "mimetype": "text/x-python",
   "name": "python",
   "nbconvert_exporter": "python",
   "pygments_lexer": "ipython3",
   "version": "3.10.9"
  }
 },
 "nbformat": 4,
 "nbformat_minor": 5
}
