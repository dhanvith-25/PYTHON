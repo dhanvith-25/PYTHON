{
 "cells": [
  {
   "cell_type": "markdown",
   "id": "efa9f6e7",
   "metadata": {},
   "source": [
    "LAB-2"
   ]
  },
  {
   "cell_type": "markdown",
   "id": "0867a7b8",
   "metadata": {},
   "source": [
    "## 2) Develop a python program to accept 4 number and display the in sorted order  using a minimum number of if else  statement"
   ]
  },
  {
   "cell_type": "code",
   "execution_count": 1,
   "id": "8efe6e42",
   "metadata": {},
   "outputs": [
    {
     "name": "stdout",
     "output_type": "stream",
     "text": [
      "Enter the first number: 4\n",
      "Enter the second number: 8\n",
      "Enter the third number: 1\n",
      "Enter the fourth number: 2\n",
      "The sorted number are : 1 2 4 8\n"
     ]
    }
   ],
   "source": [
    "a=int(input(\"Enter the first number: \"))\n",
    "b=int(input(\"Enter the second number: \"))\n",
    "c=int(input(\"Enter the third number: \"))\n",
    "d=int(input(\"Enter the fourth number: \"))\n",
    "if a>b:a,b=b,a\n",
    "if c>d:c,d=d,c\n",
    "if a>c:a,c=c,a\n",
    "if b>d:b,d=d,b\n",
    "if b>c:b,c=c,b\n",
    "print(\"The sorted number are :\",a,b,c,d)"
   ]
  },
  {
   "cell_type": "code",
   "execution_count": null,
   "id": "9764d552",
   "metadata": {},
   "outputs": [],
   "source": []
  }
 ],
 "metadata": {
  "kernelspec": {
   "display_name": "Python 3 (ipykernel)",
   "language": "python",
   "name": "python3"
  },
  "language_info": {
   "codemirror_mode": {
    "name": "ipython",
    "version": 3
   },
   "file_extension": ".py",
   "mimetype": "text/x-python",
   "name": "python",
   "nbconvert_exporter": "python",
   "pygments_lexer": "ipython3",
   "version": "3.10.9"
  }
 },
 "nbformat": 4,
 "nbformat_minor": 5
}
