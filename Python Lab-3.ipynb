{
 "cells": [
  {
   "cell_type": "markdown",
   "id": "cbf82e82",
   "metadata": {},
   "source": [
    "# LAB-3"
   ]
  },
  {
   "cell_type": "markdown",
   "id": "ca7c88b3",
   "metadata": {},
   "source": [
    "## 3) Develop a program for checking of a given digit is palindrom or not"
   ]
  },
  {
   "cell_type": "code",
   "execution_count": 20,
   "id": "6f055aa6",
   "metadata": {},
   "outputs": [
    {
     "name": "stdout",
     "output_type": "stream",
     "text": [
      "Enter an n-digit number :121\n",
      "palindram\n"
     ]
    }
   ],
   "source": [
    "number=int(input(\"Enter an n-digit number :\"))\n",
    "orginal_number=number\n",
    "reversed_number=0\n",
    "while number>0:\n",
    "    digit=number%10\n",
    "    reversed_number=reversed_number*10+digit\n",
    "    number//=10\n",
    "if orginal_number==reversed_number:\n",
    "    print('palindram')\n",
    "else:\n",
    "    print(\"not a palindrom\")"
   ]
  },
  {
   "cell_type": "code",
   "execution_count": null,
   "id": "29bd3c47",
   "metadata": {},
   "outputs": [],
   "source": []
  }
 ],
 "metadata": {
  "kernelspec": {
   "display_name": "Python 3 (ipykernel)",
   "language": "python",
   "name": "python3"
  },
  "language_info": {
   "codemirror_mode": {
    "name": "ipython",
    "version": 3
   },
   "file_extension": ".py",
   "mimetype": "text/x-python",
   "name": "python",
   "nbconvert_exporter": "python",
   "pygments_lexer": "ipython3",
   "version": "3.10.9"
  }
 },
 "nbformat": 4,
 "nbformat_minor": 5
}
