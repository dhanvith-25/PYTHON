{
 "cells": [
  {
   "cell_type": "markdown",
   "id": "c0711248",
   "metadata": {},
   "source": [
    "# LAB-7"
   ]
  },
  {
   "cell_type": "markdown",
   "id": "e941f17a",
   "metadata": {},
   "source": [
    "## 07) Develop  a program to interchange digit of given number."
   ]
  },
  {
   "cell_type": "code",
   "execution_count": 17,
   "id": "797eaa50",
   "metadata": {},
   "outputs": [
    {
     "name": "stdout",
     "output_type": "stream",
     "text": [
      "enter the user input :4576\n",
      "Enter 1st position which you want to swap :1\n",
      "Enter 2st position which you want to swap :3\n",
      "orginal number  4576\n",
      "Interchanged number : 7546\n"
     ]
    }
   ],
   "source": [
    "def interchange_digit(number,pos1,pos2):\n",
    "    number_str=str(number)\n",
    "    number_list=list(number_str)\n",
    "    number_list[pos1-1],number_list[pos2-1]=number_list[pos2-1],number_list[pos1-1]\n",
    "    interchange_number=int(''.join(number_list))\n",
    "    return interchange_number\n",
    "\n",
    "number=int(input(\"enter the user input :\"))\n",
    "pos1=int(input(\"Enter 1st position which you want to swap :\"))\n",
    "pos2=int(input(\"Enter 2st position which you want to swap :\"))\n",
    "interchanged_number=interchange_digit(number,pos1,pos2)\n",
    "print(\"orginal number \",number)\n",
    "print(\"Interchanged number :\",interchanged_number)"
   ]
  },
  {
   "cell_type": "code",
   "execution_count": null,
   "id": "0435910e",
   "metadata": {},
   "outputs": [],
   "source": []
  }
 ],
 "metadata": {
  "kernelspec": {
   "display_name": "Python 3 (ipykernel)",
   "language": "python",
   "name": "python3"
  },
  "language_info": {
   "codemirror_mode": {
    "name": "ipython",
    "version": 3
   },
   "file_extension": ".py",
   "mimetype": "text/x-python",
   "name": "python",
   "nbconvert_exporter": "python",
   "pygments_lexer": "ipython3",
   "version": "3.10.9"
  }
 },
 "nbformat": 4,
 "nbformat_minor": 5
}
