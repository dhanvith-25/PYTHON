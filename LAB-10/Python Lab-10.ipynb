{
 "cells": [
  {
   "cell_type": "markdown",
   "id": "76eea0ee",
   "metadata": {},
   "source": [
    "# LAB 10"
   ]
  },
  {
   "cell_type": "markdown",
   "id": "bba6ca68",
   "metadata": {},
   "source": [
    "### 10) Develop python program to read NumPy array and print row (sum,mean,std) and column (sum,mean,std)."
   ]
  },
  {
   "cell_type": "code",
   "execution_count": 6,
   "id": "22086d1c",
   "metadata": {},
   "outputs": [
    {
     "name": "stdout",
     "output_type": "stream",
     "text": [
      "numpy array\n",
      "[[1 2 3]\n",
      " [4 5 6]]\n",
      "_________________________\n",
      "row sum\n",
      "[ 6 15]\n",
      "column sum\n",
      "[5 7 9]\n",
      "_________________________\n",
      "row mean\n",
      "[2. 5.]\n",
      "Column mean\n",
      "[2.5 3.5 4.5]\n",
      "___________________________\n",
      "row std\n",
      "[0.81649658 0.81649658]\n",
      "Column std\n",
      "[1.5 1.5 1.5]\n"
     ]
    }
   ],
   "source": [
    "from numpy import asarray\n",
    "data= [[1,2,3],[4,5,6]]\n",
    "data=asarray(data)\n",
    "print('numpy array')\n",
    "print(data)\n",
    "print(\"_________________________\")\n",
    "\n",
    "totalr=data.sum(axis=1)\n",
    "totalc=data.sum(axis=0)\n",
    "print(\"row sum\")\n",
    "print(totalr)\n",
    "print(\"column sum\")\n",
    "print(totalc)\n",
    "print(\"_________________________\")\n",
    "\n",
    "meanr=data.mean(axis=1)\n",
    "meanc=data.mean(axis=0)\n",
    "print(\"row mean\")\n",
    "print(meanr)\n",
    "print(\"Column mean\")\n",
    "print(meanc)\n",
    "print(\"___________________________\")\n",
    "       \n",
    "stdr=data.std(axis=1)\n",
    "stdc=data.std(axis=0)\n",
    "print(\"row std\")\n",
    "print(stdr)\n",
    "print(\"Column std\")\n",
    "print(stdc)\n",
    "       "
   ]
  },
  {
   "cell_type": "code",
   "execution_count": null,
   "id": "4ca40586",
   "metadata": {},
   "outputs": [],
   "source": []
  }
 ],
 "metadata": {
  "kernelspec": {
   "display_name": "Python 3 (ipykernel)",
   "language": "python",
   "name": "python3"
  },
  "language_info": {
   "codemirror_mode": {
    "name": "ipython",
    "version": 3
   },
   "file_extension": ".py",
   "mimetype": "text/x-python",
   "name": "python",
   "nbconvert_exporter": "python",
   "pygments_lexer": "ipython3",
   "version": "3.10.9"
  }
 },
 "nbformat": 4,
 "nbformat_minor": 5
}
